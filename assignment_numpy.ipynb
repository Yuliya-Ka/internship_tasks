{
 "cells": [
  {
   "cell_type": "markdown",
   "id": "d3df79dd",
   "metadata": {},
   "source": [
    "## Упражнения по библиотеке Numpy"
   ]
  },
  {
   "cell_type": "code",
   "execution_count": 1,
   "id": "76b9c43b",
   "metadata": {},
   "outputs": [],
   "source": [
    "import numpy as np"
   ]
  },
  {
   "cell_type": "markdown",
   "id": "03727b7c",
   "metadata": {},
   "source": [
    "**1.** Дан случайный массив, поменять знак у элементов, значения которых между 3 и 8"
   ]
  },
  {
   "cell_type": "code",
   "execution_count": 33,
   "id": "b89a7523",
   "metadata": {},
   "outputs": [
    {
     "name": "stdout",
     "output_type": "stream",
     "text": [
      "[1 4 0 0 4 6 0 5 3 2]\n",
      "[ 1 -4  0  0 -4 -6  0 -5  3  2]\n",
      "[2 6 1 4 3 3 6 9 6 9]\n",
      "[ 2 -6  1 -4  3  3 -6  9 -6  9]\n"
     ]
    }
   ],
   "source": [
    "# your code\n",
    "# using boolean indexing \n",
    "\n",
    "arr = random.randint(10, size = 10)\n",
    "print(arr)\n",
    "arr[(arr > 3) & (arr < 8)] *= -1\n",
    "print(arr) \n",
    "\n",
    "# using 'for' loop \n",
    "\n",
    "arr = random.randint(10, size = 10)\n",
    "print(arr)\n",
    "for i in range(len(arr)):\n",
    "    if 3 < arr[i] < 8:\n",
    "        arr[i] *= -1\n",
    "print(arr) "
   ]
  },
  {
   "cell_type": "markdown",
   "id": "5fa4abda",
   "metadata": {},
   "source": [
    "**2.** Заменить максимальный элемент случайного массива на 0"
   ]
  },
  {
   "cell_type": "code",
   "execution_count": 38,
   "id": "f2788a6e",
   "metadata": {},
   "outputs": [
    {
     "name": "stdout",
     "output_type": "stream",
     "text": [
      "[33 85 33 52 88 27 51 33 41 25]\n",
      "88\n",
      "[33 85 33 52  0 27 51 33 41 25]\n"
     ]
    }
   ],
   "source": [
    "# your code\n",
    "arr = random.randint(100, size = 10)\n",
    "print(arr)\n",
    "\n",
    "max_value = arr.max()\n",
    "arr[arr == max_value] = 0\n",
    "print(max_value)\n",
    "print(arr)"
   ]
  },
  {
   "cell_type": "markdown",
   "id": "3cac656b",
   "metadata": {},
   "source": [
    "**3.** Построить прямое произведение массивов (все комбинации с каждым элементом). На вход подается двумерный массив"
   ]
  },
  {
   "cell_type": "code",
   "execution_count": 70,
   "id": "3396b764",
   "metadata": {},
   "outputs": [
    {
     "name": "stdout",
     "output_type": "stream",
     "text": [
      "[[2 0]\n",
      " [3 2]]\n",
      "[[2 2]\n",
      " [2 0]\n",
      " [2 3]\n",
      " [2 2]\n",
      " [0 2]\n",
      " [0 0]\n",
      " [0 3]\n",
      " [0 2]\n",
      " [3 2]\n",
      " [3 0]\n",
      " [3 3]\n",
      " [3 2]\n",
      " [2 2]\n",
      " [2 0]\n",
      " [2 3]\n",
      " [2 2]]\n"
     ]
    }
   ],
   "source": [
    "# your code\n",
    "arr = random.randint(5, size = (2, 2), dtype = int)\n",
    "print(arr)\n",
    "cartesian_product = np.array(np.meshgrid(arr, arr)).T.reshape(-1,2)\n",
    "print(cartesian_product)\n"
   ]
  },
  {
   "cell_type": "markdown",
   "id": "674c9354",
   "metadata": {},
   "source": [
    "**4.** Даны 2 массива A (8x3) и B (2x2). Найти строки в A, которые содержат элементы из каждой строки в B, независимо от порядка элементов в B"
   ]
  },
  {
   "cell_type": "code",
   "execution_count": 90,
   "id": "cb664782",
   "metadata": {},
   "outputs": [
    {
     "name": "stdout",
     "output_type": "stream",
     "text": [
      "[[0 1 0]\n",
      " [0 4 1]\n",
      " [4 0 3]\n",
      " [3 2 2]\n",
      " [3 4 2]\n",
      " [1 1 4]\n",
      " [0 1 3]\n",
      " [3 3 2]]\n",
      "[[4 2]\n",
      " [2 3]]\n",
      "[array([4]), array([3, 4, 7])]\n"
     ]
    }
   ],
   "source": [
    "# your code\n",
    "A = random.randint(5, size = (8, 3), dtype = int)\n",
    "B = random.randint(5, size = (2, 2), dtype = int)\n",
    "print(A)\n",
    "print(B)\n",
    "matching_indices = []\n",
    "for row in B:\n",
    "    mask = np.array([np.all(np.isin(row, a)) for a in A])\n",
    "    matching_rows = np.where(mask)[0]\n",
    "    matching_indices.append(matching_rows)\n",
    "print(matching_indices)"
   ]
  },
  {
   "cell_type": "markdown",
   "id": "fa46533b",
   "metadata": {},
   "source": [
    "**5.** Дана 10x3 матрица, найти строки из неравных значений (например строка [2,2,3] остается, строка [3,3,3] удаляется)"
   ]
  },
  {
   "cell_type": "code",
   "execution_count": 96,
   "id": "fa545b23",
   "metadata": {},
   "outputs": [
    {
     "name": "stdout",
     "output_type": "stream",
     "text": [
      "[[0 1 0]\n",
      " [1 1 1]\n",
      " [1 0 0]\n",
      " [0 0 0]\n",
      " [0 2 0]\n",
      " [0 0 1]\n",
      " [2 2 2]\n",
      " [0 2 1]\n",
      " [0 1 1]\n",
      " [1 0 1]]\n",
      "[ True False  True False  True  True False  True  True  True]\n",
      "[[0 1 0]\n",
      " [1 0 0]\n",
      " [0 2 0]\n",
      " [0 0 1]\n",
      " [0 2 1]\n",
      " [0 1 1]\n",
      " [1 0 1]]\n"
     ]
    }
   ],
   "source": [
    "# your code\n",
    "arr = random.randint(3, size = (10, 3), dtype = int)\n",
    "print(arr)\n",
    "mask = np.array([len(np.unique(row)) > 1 for row in arr])\n",
    "print(mask)\n",
    "filtered_arr = arr[mask]\n",
    "print(filtered_arr)"
   ]
  },
  {
   "cell_type": "markdown",
   "id": "28f0d116",
   "metadata": {},
   "source": [
    "**6.** Дан двумерный массив. Удалить те строки, которые повторяются"
   ]
  },
  {
   "cell_type": "code",
   "execution_count": 100,
   "id": "83d2c0b7",
   "metadata": {},
   "outputs": [
    {
     "name": "stdout",
     "output_type": "stream",
     "text": [
      "[[0 1 0]\n",
      " [0 0 0]\n",
      " [1 0 0]\n",
      " [0 1 1]\n",
      " [1 0 1]\n",
      " [1 0 1]\n",
      " [0 0 1]\n",
      " [1 0 1]\n",
      " [0 0 1]\n",
      " [1 0 0]]\n",
      "[[0 0 0]\n",
      " [0 0 1]\n",
      " [0 1 0]\n",
      " [0 1 1]\n",
      " [1 0 0]\n",
      " [1 0 1]]\n"
     ]
    }
   ],
   "source": [
    "# your code\n",
    "arr = random.randint(2, size = (10, 3), dtype = int)\n",
    "print(arr)\n",
    "unique_arr = np.unique(arr, axis=0)\n",
    "print(unique_arr)"
   ]
  },
  {
   "cell_type": "markdown",
   "id": "6daa9e37",
   "metadata": {},
   "source": [
    "______\n",
    "______"
   ]
  },
  {
   "cell_type": "markdown",
   "id": "cfbfcaff",
   "metadata": {},
   "source": [
    "Для каждой из следующих задач (1-5) нужно привести 2 реализации – одна без использования numpy (cчитайте, что там, где на входе или выходе должны быть numpy array, будут просто списки), а вторая полностью векторизованная с использованием numpy (без использования питоновских циклов/map/list comprehension).\n",
    "\n",
    "\n",
    "__Замечание 1.__ Можно считать, что все указанные объекты непустые (к примеру, в __задаче 1__ на диагонали матрицы есть ненулевые элементы).\n",
    "\n",
    "__Замечание 2.__ Для большинства задач решение занимает не больше 1-2 строк."
   ]
  },
  {
   "cell_type": "markdown",
   "id": "673cac7f",
   "metadata": {},
   "source": [
    "___"
   ]
  },
  {
   "cell_type": "markdown",
   "id": "ca6f585e",
   "metadata": {},
   "source": [
    "* __Задача 1__: Подсчитать произведение ненулевых элементов на диагонали прямоугольной матрицы.  \n",
    " Например, для X = np.array([[1, 0, 1], [2, 0, 2], [3, 0, 3], [4, 4, 4]]) ответ 3."
   ]
  },
  {
   "cell_type": "code",
   "execution_count": 124,
   "id": "065862fc",
   "metadata": {},
   "outputs": [
    {
     "name": "stdout",
     "output_type": "stream",
     "text": [
      "3\n",
      "[[1 0 1]\n",
      " [2 0 2]\n",
      " [3 0 3]\n",
      " [4 4 4]]\n",
      "3\n"
     ]
    }
   ],
   "source": [
    "# your code\n",
    "# without using numpy\n",
    "X = [\n",
    "    [1, 0, 1],\n",
    "    [2, 0, 2],\n",
    "    [3, 0, 3],\n",
    "    [4, 4, 4]\n",
    "]\n",
    "def diagonal_product(matrix):\n",
    "    product = 1\n",
    "    for i in range(min(len(matrix), len(matrix[0]))):\n",
    "        if matrix[i][i] != 0:\n",
    "            product *= matrix[i][i]\n",
    "    return product\n",
    "print(diagonal_product(X))\n",
    "\n",
    "# using numpy\n",
    "\n",
    "X = np.array([[1, 0, 1], [2, 0, 2], [3, 0, 3], [4, 4, 4]])\n",
    "print(X)\n",
    "product = np.prod(X[np.diag_indices(min(X.shape))][X[np.diag_indices(min(X.shape))] != 0])\n",
    "print(product)"
   ]
  },
  {
   "cell_type": "markdown",
   "id": "9fc51d41",
   "metadata": {},
   "source": [
    "* __Задача 2__: Даны два вектора x и y. Проверить, задают ли они одно и то же мультимножество.  \n",
    "  Например, для x = np.array([1, 2, 2, 4]), y = np.array([4, 2, 1, 2]) ответ True."
   ]
  },
  {
   "cell_type": "code",
   "execution_count": 119,
   "id": "a809e02f",
   "metadata": {},
   "outputs": [
    {
     "name": "stdout",
     "output_type": "stream",
     "text": [
      "True\n",
      "True\n"
     ]
    }
   ],
   "source": [
    "# your code\n",
    "# without using numpy\n",
    "x = [1, 2, 2, 4]\n",
    "y = [4, 2, 1, 2]\n",
    "def equal_check(x, y):\n",
    "    return sorted(x) == sorted(y)\n",
    "print(equal_check(x, y))\n",
    "\n",
    "\n",
    "# using numpy\n",
    "x = np.array([1, 2, 2, 4])\n",
    "y = np.array([4, 2, 1, 2])\n",
    "ux, cx = np.unique(x, return_counts=True)\n",
    "uy, cy = np.unique(y, return_counts=True)\n",
    "\n",
    "result = np.array_equal(ux, uy) & np.array_equal(cx, cy)\n",
    "print(result)"
   ]
  },
  {
   "cell_type": "markdown",
   "id": "b9c185c7",
   "metadata": {},
   "source": [
    "* __Задача 3__: Найти максимальный элемент в векторе x среди элементов, перед которыми стоит ноль. \n",
    " Например, для x = np.array([6, 2, 0, 3, 0, 0, 5, 7, 0]) ответ 5."
   ]
  },
  {
   "cell_type": "code",
   "execution_count": 134,
   "id": "b57df008",
   "metadata": {},
   "outputs": [
    {
     "name": "stdout",
     "output_type": "stream",
     "text": [
      "Elements after zero: [3, 0, 5]\n",
      "Max value: 5\n",
      "Indices of elements after zero [3 5 6]\n",
      "Max value: 5\n"
     ]
    }
   ],
   "source": [
    "# your code\n",
    "# without using numpy\n",
    "\n",
    "x = [6, 2, 0, 3, 0, 0, 5, 7, 0]\n",
    "elements_after_zero = []\n",
    "for i in range(1, len(x)):\n",
    "    if x[i - 1] == 0:\n",
    "        elements_after_zero.append(x[i])\n",
    "max_value = max(elements_after_zero) \n",
    "print(\"Elements after zero:\", elements_after_zero)\n",
    "print(\"Max value:\", max_value)\n",
    "\n",
    "# using numpy\n",
    "\n",
    "x = np.array([6, 2, 0, 3, 0, 0, 5, 7, 0]) \n",
    "indices_of_elem_after_zeros = np.where(x[:-1] == 0)[0] + 1\n",
    "print(\"Indices of elements after zero\", indices_of_elem_after_zeros)\n",
    "max_value = np.max(x[indices_of_elem_after_zeros])\n",
    "print(\"Max value:\", max_value)"
   ]
  },
  {
   "cell_type": "markdown",
   "id": "480be4ce",
   "metadata": {},
   "source": [
    "* __Задача 4__: Реализовать кодирование длин серий (Run-length encoding). Для некоторого вектора x необходимо вернуть кортеж из двух векторов одинаковой длины. Первый содержит числа, а второй - сколько раз их нужно повторить.  \n",
    " Например, для x = np.array([2, 2, 2, 3, 3, 3, 5]) ответ (np.array([2, 3, 5]), np.array([3, 3, 1]))."
   ]
  },
  {
   "cell_type": "code",
   "execution_count": 140,
   "id": "3c592124",
   "metadata": {},
   "outputs": [
    {
     "name": "stdout",
     "output_type": "stream",
     "text": [
      "([2, 3, 5], [3, 3, 1])\n",
      "(array([2, 3, 5]), array([3, 3, 1]))\n"
     ]
    }
   ],
   "source": [
    "# your code\n",
    "# without using numpy\n",
    "\n",
    "def run_length_encoding(lst):\n",
    "    if not lst:\n",
    "        return [], []\n",
    "\n",
    "    values = [lst[0]]\n",
    "    counts = [1]\n",
    "\n",
    "    for i in range(1, len(lst)):\n",
    "        if lst[i] == lst[i - 1]:\n",
    "            counts[-1] += 1\n",
    "        else:\n",
    "            values.append(lst[i])\n",
    "            counts.append(1)\n",
    "\n",
    "    return values, counts\n",
    "\n",
    "print(run_length_encoding([2, 2, 2, 3, 3, 3, 5]))\n",
    "\n",
    "# using numpy\n",
    "\n",
    "x = np.array([2, 2, 2, 3, 3, 3, 5])\n",
    "print(np.unique(x, return_counts=True))"
   ]
  },
  {
   "cell_type": "markdown",
   "id": "077532ec",
   "metadata": {},
   "source": [
    "* __Задача 5__: Даны две выборки объектов - X и Y. Вычислить матрицу евклидовых расстояний между объектами. Сравните с функцией scipy.spatial.distance.cdist по скорости работы."
   ]
  },
  {
   "cell_type": "code",
   "execution_count": 167,
   "id": "1e807797",
   "metadata": {},
   "outputs": [
    {
     "name": "stdout",
     "output_type": "stream",
     "text": [
      "Euclidean distance matrix:\n",
      "[1.0, 4.242640687119285]\n",
      "[3.605551275463989, 1.4142135623730951]\n",
      "[6.4031242374328485, 1.4142135623730951]\n",
      "Execution time in seconds: 0.000252\n",
      "Euclidean distance matrix (with numpy):\n",
      "[[1.         4.24264069]\n",
      " [3.60555128 1.41421356]\n",
      " [6.40312424 1.41421356]]\n",
      "Execution time with numpy in seconds: 0.000597\n",
      "Euclidean distance matrix (using scipy):\n",
      "[[1.         4.24264069]\n",
      " [3.60555128 1.41421356]\n",
      " [6.40312424 1.41421356]]\n",
      "Execution time with scipy in seconds: 0.000238\n"
     ]
    }
   ],
   "source": [
    "# your code\n",
    "# without using numpy\n",
    "\n",
    "import math\n",
    "import time\n",
    "def euclidean_distance(x, y):\n",
    "    return math.sqrt(sum((xi - yi) ** 2 for xi, yi in zip(x, y)))\n",
    "\n",
    "X = [[1, 2], [3, 4], [5, 6]]\n",
    "Y = [[1, 1], [4, 5]]\n",
    "\n",
    "start_time = time.time()\n",
    "\n",
    "distance_matrix = []\n",
    "for x in X:\n",
    "    row = []\n",
    "    for y in Y:\n",
    "        row.append(euclidean_distance(x, y))\n",
    "    distance_matrix.append(row)\n",
    "\n",
    "print(\"Euclidean distance matrix:\")\n",
    "for row in distance_matrix:\n",
    "    print(row)\n",
    "\n",
    "end_time = time.time()\n",
    "\n",
    "print(f\"Execution time in seconds: {end_time - start_time:.6f}\")\n",
    "\n",
    "# using numpy\n",
    "\n",
    "import time\n",
    "\n",
    "X = np.array([[1, 2], [3, 4], [5, 6]])\n",
    "Y = np.array([[1, 1], [4, 5]])\n",
    "\n",
    "start_time = time.time()\n",
    "distance_matrix = np.sqrt(((X[:, np.newaxis, :] - Y[np.newaxis, :, :]) ** 2).sum(axis=2))\n",
    "print(\"Euclidean distance matrix (with numpy):\")\n",
    "print(distance_matrix)\n",
    "\n",
    "end_time = time.time()\n",
    "print(f\"Execution time with numpy in seconds: {end_time - start_time:.6f}\")\n",
    "\n",
    "# using scipy\n",
    "from scipy.spatial.distance import cdist\n",
    "\n",
    "X = np.array([[1, 2], [3, 4], [5, 6]])\n",
    "Y = np.array([[1, 1], [4, 5]])\n",
    "\n",
    "start_time = time.time()\n",
    "\n",
    "print(\"Euclidean distance matrix (using scipy):\")\n",
    "print(cdist(X, Y))\n",
    "\n",
    "end_time = time.time()\n",
    "print(f\"Execution time with scipy in seconds: {end_time - start_time:.6f}\")"
   ]
  },
  {
   "cell_type": "markdown",
   "id": "973e8064",
   "metadata": {},
   "source": [
    "_______\n",
    "________"
   ]
  },
  {
   "cell_type": "markdown",
   "id": "1104acb7",
   "metadata": {},
   "source": [
    "* #### __Задача 6__: CrunchieMunchies __*__\n",
    "\n",
    "Вы работаете в отделе маркетинга пищевой компании MyCrunch, которая разрабатывает новый вид вкусных, полезных злаков под названием **CrunchieMunchies**.\n",
    "\n",
    "Вы хотите продемонстрировать потребителям, насколько полезны ваши хлопья по сравнению с другими ведущими брендами, поэтому вы собрали данные о питании нескольких разных конкурентов.\n",
    "\n",
    "Ваша задача - использовать вычисления Numpy для анализа этих данных и доказать, что ваши **СrunchieMunchies** - самый здоровый выбор для потребителей.\n"
   ]
  },
  {
   "cell_type": "code",
   "execution_count": 173,
   "id": "10a77f8d",
   "metadata": {},
   "outputs": [],
   "source": [
    "import numpy as np"
   ]
  },
  {
   "cell_type": "markdown",
   "id": "ab87cb03",
   "metadata": {},
   "source": [
    "1. Просмотрите файл cereal.csv. Этот файл содержит количества калорий для различных марок хлопьев. Загрузите данные из файла и сохраните их как calorie_stats."
   ]
  },
  {
   "cell_type": "code",
   "execution_count": 182,
   "id": "9681ebf2",
   "metadata": {},
   "outputs": [
    {
     "data": {
      "text/plain": [
       "array([ 70., 120.,  70.,  50., 110., 110., 110., 130.,  90.,  90., 120.,\n",
       "       110., 120., 110., 110., 110., 100., 110., 110., 110., 100., 110.,\n",
       "       100., 100., 110., 110., 100., 120., 120., 110., 100., 110., 100.,\n",
       "       110., 120., 120., 110., 110., 110., 140., 110., 100., 110., 100.,\n",
       "       150., 150., 160., 100., 120., 140.,  90., 130., 120., 100.,  50.,\n",
       "        50., 100., 100., 120., 100.,  90., 110., 110.,  80.,  90.,  90.,\n",
       "       110., 110.,  90., 110., 140., 100., 110., 110., 100., 100., 110.])"
      ]
     },
     "execution_count": 182,
     "metadata": {},
     "output_type": "execute_result"
    }
   ],
   "source": [
    "calorie_stats = np.loadtxt(r\"D:\\Studying\\DataAnalytics\\Internship Innowise\\python\\cereal.csv\", delimiter=\",\")\n",
    "calorie_stats"
   ]
  },
  {
   "cell_type": "markdown",
   "id": "139cfbd8",
   "metadata": {},
   "source": [
    "2. В одной порции CrunchieMunchies содержится 60 калорий. Насколько выше среднее количество калорий у ваших конкурентов?\n",
    "\n",
    "Сохраните ответ в переменной average_calories и распечатайте переменную в терминале"
   ]
  },
  {
   "cell_type": "code",
   "execution_count": 199,
   "id": "7036d240",
   "metadata": {},
   "outputs": [
    {
     "name": "stdout",
     "output_type": "stream",
     "text": [
      "106.88\n"
     ]
    }
   ],
   "source": [
    "# your code\n",
    "average_calories = np.mean(calorie_stats)\n",
    "print(round(average_calories, 2))"
   ]
  },
  {
   "cell_type": "markdown",
   "id": "b2ddb4cd",
   "metadata": {},
   "source": [
    "3. Корректно ли среднее количество калорий отражает распределение набора данных? Давайте отсортируем данные и посмотрим.\n",
    "\n",
    "Отсортируйте данные и сохраните результат в переменной calorie_stats_sorted. Распечатайте отсортированную информацию"
   ]
  },
  {
   "cell_type": "code",
   "execution_count": 184,
   "id": "46eeb4ed",
   "metadata": {},
   "outputs": [
    {
     "name": "stdout",
     "output_type": "stream",
     "text": [
      "[ 50.  50.  50.  70.  70.  80.  90.  90.  90.  90.  90.  90.  90. 100.\n",
      " 100. 100. 100. 100. 100. 100. 100. 100. 100. 100. 100. 100. 100. 100.\n",
      " 100. 100. 110. 110. 110. 110. 110. 110. 110. 110. 110. 110. 110. 110.\n",
      " 110. 110. 110. 110. 110. 110. 110. 110. 110. 110. 110. 110. 110. 110.\n",
      " 110. 110. 110. 120. 120. 120. 120. 120. 120. 120. 120. 120. 120. 130.\n",
      " 130. 140. 140. 140. 150. 150. 160.]\n"
     ]
    }
   ],
   "source": [
    "# your code\n",
    "calorie_stats_sorted = np.sort(calorie_stats)\n",
    "print(calorie_stats_sorted)"
   ]
  },
  {
   "cell_type": "markdown",
   "id": "4dc74116",
   "metadata": {},
   "source": [
    "4. Похоже, что большинство значений выше среднего. Давайте посмотрим, является ли медиана наиболее корректным показателем набора данных.\n",
    "\n",
    "Вычислите медиану набора данных и сохраните свой ответ в median_calories. Выведите медиану, чтобы вы могли видеть, как она сравнивается со средним значением."
   ]
  },
  {
   "cell_type": "code",
   "execution_count": 185,
   "id": "b56627c3",
   "metadata": {},
   "outputs": [
    {
     "name": "stdout",
     "output_type": "stream",
     "text": [
      "110.0\n"
     ]
    }
   ],
   "source": [
    "# your code\n",
    "median_calories = np.median(calorie_stats)\n",
    "print(median_calories)"
   ]
  },
  {
   "cell_type": "markdown",
   "id": "a63ab72f",
   "metadata": {},
   "source": [
    "5. В то время как медиана показывает, что по крайней мере половина наших значений составляет более 100 калорий, было бы более впечатляюще показать, что значительная часть конкурентов имеет более высокое количество калорий, чем CrunchieMunchies.\n",
    "\n",
    "Рассчитайте различные процентили и распечатайте их, пока не найдете наименьший процентиль, превышающий 60 калорий. Сохраните это значение в переменной nth_percentile."
   ]
  },
  {
   "cell_type": "code",
   "execution_count": 191,
   "id": "fe80ce03",
   "metadata": {},
   "outputs": [
    {
     "name": "stdout",
     "output_type": "stream",
     "text": [
      "Percentiles: [ 50.  70.  90.  90. 100. 100. 100. 100. 110. 110. 110. 110. 110. 110.\n",
      " 110. 110. 120. 120. 124. 140. 160.]\n",
      "Lowest percentile above 60 calories: 5% (70.0 calories)\n"
     ]
    }
   ],
   "source": [
    "# your code\n",
    "percentiles = np.percentile(calorie_stats, np.arange(0, 101, 5))\n",
    "print(\"Percentiles:\", percentiles)\n",
    "\n",
    "for p in range(0, 101, 5):\n",
    "    value = np.percentile(calorie_stats, p)\n",
    "    if value > 60:\n",
    "        nth_percentile = p\n",
    "        print(f\"Lowest percentile above 60 calories: {nth_percentile}% ({value} calories)\")\n",
    "        break"
   ]
  },
  {
   "cell_type": "markdown",
   "id": "a2a3c5aa",
   "metadata": {},
   "source": [
    "6. Хотя процентиль показывает нам, что у большинства конкурентов количество калорий намного выше, это неудобная концепция для использования в маркетинговых материалах.\n",
    "\n",
    "Вместо этого давайте подсчитаем процент хлопьев, в которых содержится более 60 калорий на порцию. Сохраните свой ответ в переменной more_calories и распечатайте его"
   ]
  },
  {
   "cell_type": "code",
   "execution_count": 195,
   "id": "ade0f6ea",
   "metadata": {},
   "outputs": [
    {
     "name": "stdout",
     "output_type": "stream",
     "text": [
      "96.10%\n"
     ]
    }
   ],
   "source": [
    "# your code\n",
    "more_calories = np.sum(calorie_stats > 60) / len(calorie_stats)\n",
    "print(f\"{more_calories:.2%}\")"
   ]
  },
  {
   "cell_type": "markdown",
   "id": "1735d65b",
   "metadata": {},
   "source": [
    "7. Это действительно высокий процент. Это будет очень полезно, когда мы будем продвигать CrunchieMunchies. Но один вопрос заключается в том, насколько велики различия в наборе данных? Можем ли мы сделать обобщение, что в большинстве злаков содержится около 100 калорий или разброс еще больше?\n",
    "\n",
    "Рассчитайте величину отклонения, найдя стандартное отклонение, Сохраните свой ответ в calorie_std и распечатайте на терминале. Как мы можем включить эту ценность в наш анализ?"
   ]
  },
  {
   "cell_type": "code",
   "execution_count": 198,
   "id": "85c8df1f",
   "metadata": {},
   "outputs": [
    {
     "name": "stdout",
     "output_type": "stream",
     "text": [
      "19.36\n"
     ]
    }
   ],
   "source": [
    "# your code\n",
    "calorie_std = np.std(calorie_stats)\n",
    "print(round(calorie_std, 2))"
   ]
  },
  {
   "cell_type": "markdown",
   "id": "037455c5",
   "metadata": {},
   "source": [
    "8. Напишите короткий абзац, в котором кратко изложите свои выводы и то, как, по вашему мнению, эти данные могут быть использованы в интересах Mycrunch при маркетинге CrunchieMunchies."
   ]
  },
  {
   "cell_type": "code",
   "execution_count": 213,
   "id": "c260fee9",
   "metadata": {},
   "outputs": [
    {
     "name": "stdout",
     "output_type": "stream",
     "text": [
      "Анализ данных показал, что продукт компании намного низкокалорийнее по сравнению с продуктами конкурентов\n",
      "и это можно использовать как продвижение продукта на рынке, выделяя это как преимущество среди других.\n",
      "\n",
      "Так, можно оперировать данными и показывать, что продукт компании низкокалорийнее чем 96.10% конкурентов, \n",
      "в то время как сам продукт компании имеет калорийность всего 60 Ккал, \n",
      "что на 46.9 Ккал ниже средней калорийности продуктов конкурентов, \n",
      "которая составляет 106.9 Ккал \n"
     ]
    }
   ],
   "source": [
    "# your code\n",
    "print(f\"\"\"Анализ данных показал, что продукт компании намного низкокалорийнее по сравнению с продуктами конкурентов\n",
    "и это можно использовать как продвижение продукта на рынке, выделяя это как преимущество среди других.\n",
    "\n",
    "Так, можно оперировать данными и показывать, что продукт компании низкокалорийнее чем {more_calories:.2%} конкурентов, \n",
    "в то время как сам продукт компании имеет калорийность всего 60 Ккал, \n",
    "что на {round(average_calories - 60, 1)} Ккал ниже средней калорийности продуктов конкурентов, \n",
    "которая составляет {round(average_calories, 1)} Ккал \"\"\")"
   ]
  },
  {
   "cell_type": "code",
   "execution_count": null,
   "id": "ea70ecb8-7629-46b2-b752-4d1145ba86b8",
   "metadata": {},
   "outputs": [],
   "source": []
  }
 ],
 "metadata": {
  "kernelspec": {
   "display_name": "Python 3 (ipykernel)",
   "language": "python",
   "name": "python3"
  },
  "language_info": {
   "codemirror_mode": {
    "name": "ipython",
    "version": 3
   },
   "file_extension": ".py",
   "mimetype": "text/x-python",
   "name": "python",
   "nbconvert_exporter": "python",
   "pygments_lexer": "ipython3",
   "version": "3.13.2"
  }
 },
 "nbformat": 4,
 "nbformat_minor": 5
}
